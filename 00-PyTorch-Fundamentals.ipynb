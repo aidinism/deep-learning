{
 "cells": [
  {
   "cell_type": "markdown",
   "id": "c48ff17e",
   "metadata": {},
   "source": [
    "<div dir=\"rtl\">\n",
    "\n",
    "# 00.مبانی PyTorch\n",
    "\n",
    "</div>"
   ]
  },
  {
   "cell_type": "markdown",
   "id": "177f11cc",
   "metadata": {},
   "source": [
    "<div dir=\"rtl\">\n",
    "\n",
    "### PyTorch چیه؟\n",
    "یک فریم ورک متن باز برای یادگیری ماشین و یادگیری عمیق\n",
    "\n",
    "</div>\n"
   ]
  },
  {
   "cell_type": "markdown",
   "id": "e2aa341f",
   "metadata": {},
   "source": [
    "# Importing PyTorch\n",
    "\n",
    "><b>نکته:</b> اگر پایتورچ رو نصب ندارید ، از [اینجا](https://pytorch.org/get-started/locally/) میتونید نصب کنید\n",
    ">\n",
    "\n",
    "\n",
    "با ایمپورت کردن و چک کردن نسخه پایتورچ شروع میکنیم"
   ]
  },
  {
   "cell_type": "code",
   "execution_count": 3,
   "id": "648e9740",
   "metadata": {},
   "outputs": [
    {
     "data": {
      "text/plain": [
       "'1.12.1+cu116'"
      ]
     },
     "execution_count": 3,
     "metadata": {},
     "output_type": "execute_result"
    }
   ],
   "source": [
    "import torch\n",
    "torch.__version__"
   ]
  },
  {
   "cell_type": "code",
   "execution_count": null,
   "id": "e9d14e8a",
   "metadata": {},
   "outputs": [],
   "source": []
  }
 ],
 "metadata": {
  "kernelspec": {
   "display_name": "Python 3 (ipykernel)",
   "language": "python",
   "name": "python3"
  },
  "language_info": {
   "codemirror_mode": {
    "name": "ipython",
    "version": 3
   },
   "file_extension": ".py",
   "mimetype": "text/x-python",
   "name": "python",
   "nbconvert_exporter": "python",
   "pygments_lexer": "ipython3",
   "version": "3.9.7"
  },
  "vscode": {
   "interpreter": {
    "hash": "6f9af2a21eda8bb96dd4f7ab9f2308b057eea850d8aa436e1edf4ff418db137c"
   }
  }
 },
 "nbformat": 4,
 "nbformat_minor": 5
}
