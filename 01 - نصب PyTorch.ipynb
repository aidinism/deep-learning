{
 "cells": [
  {
   "cell_type": "markdown",
   "id": "b8668ded",
   "metadata": {},
   "source": [
    "## 01. نصب PyTorch\n",
    "\n",
    "سوالات در مورد این جلسه رو در اینجا مطرح کنید: https://github.com/aidinism/deep-learning/discussions/7 "
   ]
  },
  {
   "cell_type": "code",
   "execution_count": null,
   "id": "1f963bd3",
   "metadata": {},
   "outputs": [],
   "source": [
    "import torch\n",
    "from torch import nn # nn contains all of PyTorch's building blocks for neural networks\n",
    "import matplotlib.pyplot as plt\n",
    "\n",
    "# Check PyTorch version\n",
    "torch.__version__"
   ]
  }
 ],
 "metadata": {
  "kernelspec": {
   "display_name": "Python 3 (ipykernel)",
   "language": "python",
   "name": "python3"
  },
  "language_info": {
   "codemirror_mode": {
    "name": "ipython",
    "version": 3
   },
   "file_extension": ".py",
   "mimetype": "text/x-python",
   "name": "python",
   "nbconvert_exporter": "python",
   "pygments_lexer": "ipython3",
   "version": "3.9.7"
  }
 },
 "nbformat": 4,
 "nbformat_minor": 5
}
