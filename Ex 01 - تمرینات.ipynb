{
 "cells": [
  {
   "cell_type": "markdown",
   "id": "33a506b5",
   "metadata": {},
   "source": [
    "تمرینات:"
   ]
  },
  {
   "cell_type": "markdown",
   "id": "0a1b45b6",
   "metadata": {},
   "source": [
    "### 1. منابع\n",
    "\n",
    "\n",
    "**Intro:** https://pytorch.org/tutorials/beginner/basics/intro.html\n",
    "\n",
    "**Quick Start:** https://pytorch.org/tutorials/beginner/basics/quickstart_tutorial.html\n",
    "\n",
    "**Tensors:** https://pytorch.org/tutorials/beginner/basics/tensorqs_tutorial.html"
   ]
  },
  {
   "cell_type": "markdown",
   "id": "eb3690c2",
   "metadata": {},
   "source": [
    "\n",
    "### 2. یک تنسور تصادفی 7 در 7 ایجاد کنید\n",
    "\n"
   ]
  },
  {
   "cell_type": "code",
   "execution_count": 7,
   "id": "fccaca70",
   "metadata": {},
   "outputs": [],
   "source": [
    "# Import torch\n",
    "\n",
    "# Create random tensor"
   ]
  },
  {
   "cell_type": "markdown",
   "id": "faea56fd",
   "metadata": {},
   "source": [
    "\n",
    "### 3. تنسور قبل را در یک تنسور تصادفی 1 در 7 ضرب کنید\n"
   ]
  },
  {
   "cell_type": "code",
   "execution_count": 8,
   "id": "1fd009e8",
   "metadata": {},
   "outputs": [],
   "source": [
    "# Create another random tensor\n",
    "\n",
    "# Perform matrix multiplication "
   ]
  },
  {
   "cell_type": "markdown",
   "id": "3cc4dc7d",
   "metadata": {},
   "source": [
    "### 4.  هسته تولید عدد تصادفی را روی 0 ست کنید و مراحل 2 و 3 را تکرار کنید\n",
    "\n",
    "خروجی باید برابر با مقدار زیر باشد:\n",
    "\n",
    "(tensor([[1.8542],\n",
    "         [1.9611],\n",
    "         [2.2884],\n",
    "         [3.0481],\n",
    "         [1.7067],\n",
    "         [2.5290],\n",
    "         [1.7989]]), torch.Size([7, 1]))"
   ]
  },
  {
   "cell_type": "code",
   "execution_count": 9,
   "id": "6a2f2a97",
   "metadata": {},
   "outputs": [],
   "source": [
    "# Set manual seed\n",
    "\n",
    "# Create two random tensors\n",
    "\n",
    "# Matrix multiply tensors"
   ]
  },
  {
   "cell_type": "markdown",
   "id": "fdf23059",
   "metadata": {},
   "source": [
    "### 5.   (اگر جی چی یو دارید)  مرحله 4 رو برای جی پی یو تکرار کنید\n",
    "\n",
    "- هسته تولید عدد تصادفی رو در جی پی یو روی 1234 ست کنید"
   ]
  },
  {
   "cell_type": "code",
   "execution_count": 10,
   "id": "c5e22d61",
   "metadata": {},
   "outputs": [],
   "source": [
    "# Set random seed on the GPU"
   ]
  },
  {
   "cell_type": "markdown",
   "id": "9cc393ae",
   "metadata": {},
   "source": [
    "### 6. دو تنسور تصادفی 2 در 3 ایجاد کنید، هر دو رو به جی چی یو منتقل کنید\n",
    "\n",
    "- هسته تصادفی رو روی 1234 ست کنید\n",
    "- نکته: هسته تصادفی برای سی پی یو ست میشه\n",
    "- خروجی باید معادل زیر باشه\n",
    "\n",
    "Device: cuda\n",
    "\n",
    "(tensor([[0.0290, 0.4019, 0.2598], \n",
    "         [0.3666, 0.0583, 0.7006]], device='cuda:0'),\n",
    "         \n",
    " tensor([[0.0518, 0.4681, 0.6738], \n",
    "         [0.3315, 0.7837, 0.5631]], device='cuda:0'))"
   ]
  },
  {
   "cell_type": "code",
   "execution_count": 11,
   "id": "13d6f14b",
   "metadata": {},
   "outputs": [],
   "source": [
    "# Set random seed\n",
    "\n",
    "# Check for access to GPU\n",
    "\n",
    "# Create two random tensors on GPU"
   ]
  },
  {
   "cell_type": "markdown",
   "id": "6cc5200f",
   "metadata": {},
   "source": [
    "### 7. دو تنسور مرحله قبل رو در هم ضرب کنید\n",
    "\n",
    "- ممکنه نیاز داشته باشید ابعاد تنسور رو تغییر بدید\n",
    "- خروجی باید معادل زیر باشه\n",
    "\n",
    "(tensor([[0.3647, 0.4709],\n",
    "         [0.5184, 0.5617]], device='cuda:0'), torch.Size([2, 2]))\n"
   ]
  },
  {
   "cell_type": "code",
   "execution_count": 12,
   "id": "9b947a4b",
   "metadata": {},
   "outputs": [],
   "source": [
    "# Perform matmul on tensor_A and tensor_B"
   ]
  },
  {
   "cell_type": "markdown",
   "id": "3def6da7",
   "metadata": {},
   "source": [
    "### 8. مقدار بیشترین و کمترین رو در تنسور مرحله 7 پیدا کنید"
   ]
  },
  {
   "cell_type": "code",
   "execution_count": null,
   "id": "71b0cc21",
   "metadata": {},
   "outputs": [],
   "source": [
    "# Find max\n",
    "\n",
    "# Find min"
   ]
  },
  {
   "cell_type": "markdown",
   "id": "d3f053c9",
   "metadata": {},
   "source": [
    "### 9. موقعیت مقدار بیشترین و کمترین رو در تنسور مرحله 7 پیدا کنید"
   ]
  },
  {
   "cell_type": "code",
   "execution_count": 14,
   "id": "92f6b663",
   "metadata": {},
   "outputs": [],
   "source": [
    "# Find index max\n",
    "\n",
    "# Find index min"
   ]
  },
  {
   "cell_type": "markdown",
   "id": "5ee0228d",
   "metadata": {},
   "source": [
    "### 10.\n",
    "- (1, 1, 1, 10)  یک تنسور 1 در 1 در 1 در 10 ایجاد کنید\n",
    "- همه ابعاد 1 رو از تنسور حذف کنید (فقط بعد 10 باقی بمونه)\n",
    "- هسته تصادفی رو روی 7 ست کنید\n",
    "- تنسور اصلی و خروجی مرحله قبل رو به همراه شکل تنسور ها چاپ کنید\n",
    "- خروجی باید معادل زیر باشد\n",
    "\n",
    "tensor([[[[0.5349, 0.1988, 0.6592, 0.6569, 0.2328, 0.4251, 0.2071, 0.6297,\n",
    "           0.3653, 0.8513]]]]) torch.Size([1, 1, 1, 10])\n",
    "\n",
    "tensor([0.5349, 0.1988, 0.6592, 0.6569, 0.2328, 0.4251, 0.2071, 0.6297, 0.3653,\n",
    "        0.8513]) torch.Size([10])"
   ]
  },
  {
   "cell_type": "code",
   "execution_count": 15,
   "id": "2d706e53",
   "metadata": {},
   "outputs": [],
   "source": [
    "# Set seed\n",
    "\n",
    "\n",
    "# Create random tensor\n",
    "\n",
    "\n",
    "# Remove single dimensions\n",
    "\n",
    "\n",
    "# Print out tensors and their shapes"
   ]
  },
  {
   "cell_type": "code",
   "execution_count": null,
   "id": "c07e6875",
   "metadata": {},
   "outputs": [],
   "source": []
  }
 ],
 "metadata": {
  "kernelspec": {
   "display_name": "Python 3 (ipykernel)",
   "language": "python",
   "name": "python3"
  },
  "language_info": {
   "codemirror_mode": {
    "name": "ipython",
    "version": 3
   },
   "file_extension": ".py",
   "mimetype": "text/x-python",
   "name": "python",
   "nbconvert_exporter": "python",
   "pygments_lexer": "ipython3",
   "version": "3.9.7"
  }
 },
 "nbformat": 4,
 "nbformat_minor": 5
}
